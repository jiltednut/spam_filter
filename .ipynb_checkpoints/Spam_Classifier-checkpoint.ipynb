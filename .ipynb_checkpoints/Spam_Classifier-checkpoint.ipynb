{
 "cells": [
  {
   "cell_type": "code",
   "execution_count": 91,
   "metadata": {},
   "outputs": [],
   "source": [
    "# Standard libraries\n",
    "import os\n",
    "import bz2\n",
    "import tarfile\n",
    "import glob\n",
    "\n",
    "# Data Cleansing\n",
    "import pandas as pd\n",
    "import re\n",
    "\n",
    "# URL libs\n",
    "import requests\n",
    "from bs4 import BeautifulSoup\n"
   ]
  },
  {
   "cell_type": "code",
   "execution_count": 3,
   "metadata": {},
   "outputs": [],
   "source": [
    "lib_url = \"https://spamassassin.apache.org/old/publiccorpus/\""
   ]
  },
  {
   "cell_type": "code",
   "execution_count": 4,
   "metadata": {},
   "outputs": [],
   "source": [
    "soup = BeautifulSoup(requests.get(lib_url).text)"
   ]
  },
  {
   "cell_type": "code",
   "execution_count": 5,
   "metadata": {},
   "outputs": [],
   "source": [
    "urls = soup.find_all('a')\n",
    "filenames = [url['href'] for url in urls if \"bz2\" in str(url)]\n",
    "downloadable = [lib_url + filename for filename in filenames]"
   ]
  },
  {
   "cell_type": "code",
   "execution_count": 7,
   "metadata": {},
   "outputs": [],
   "source": [
    "for i, url in enumerate(downloadable):\n",
    "    dl = requests.get(url, allow_redirects = True)\n",
    "    open(\".//data//\"+filenames[i], 'wb').write(dl.content)"
   ]
  },
  {
   "cell_type": "code",
   "execution_count": 10,
   "metadata": {},
   "outputs": [
    {
     "data": {
      "text/plain": [
       "'20021010_hard_ham.tar.bz2'"
      ]
     },
     "execution_count": 10,
     "metadata": {},
     "output_type": "execute_result"
    }
   ],
   "source": [
    "filenames[1]"
   ]
  },
  {
   "cell_type": "code",
   "execution_count": 40,
   "metadata": {},
   "outputs": [
    {
     "name": "stdout",
     "output_type": "stream",
     "text": [
      "data\\extracted\\20021010_easy_ham\n",
      "data\\extracted\\20021010_hard_ham\n",
      "data\\extracted\\20021010_spam\n",
      "data\\extracted\\20030228_easy_ham\n",
      "data\\extracted\\20030228_easy_ham_2\n",
      "data\\extracted\\20030228_hard_ham\n",
      "data\\extracted\\20030228_spam\n",
      "data\\extracted\\20030228_spam_2\n",
      "data\\extracted\\20050311_spam_2\n"
     ]
    }
   ],
   "source": [
    "for filepath in glob.glob(\".\\\\data\\\\*.tar.bz2\"):\n",
    "#     zipfile = bz2.BZ2File(filepath)\n",
    "#     data = zipfile.read()\n",
    "#     newfile = filepath[:-4]\n",
    "#     open(newfile, \"wb\").write(data)\n",
    "    tar = tarfile.open(filepath, \"r:bz2\")\n",
    "    tar.extractall(os.path.join(\"data\\\\extracted\", filepath[7:-8]))\n",
    "    tar.close()"
   ]
  },
  {
   "cell_type": "code",
   "execution_count": 46,
   "metadata": {},
   "outputs": [
    {
     "data": {
      "text/plain": [
       "['.\\\\data\\\\extracted\\\\20021010_easy_ham\\\\easy_ham',\n",
       " '.\\\\data\\\\extracted\\\\20021010_hard_ham\\\\hard_ham',\n",
       " '.\\\\data\\\\extracted\\\\20021010_spam\\\\spam',\n",
       " '.\\\\data\\\\extracted\\\\20030228_easy_ham\\\\easy_ham',\n",
       " '.\\\\data\\\\extracted\\\\20030228_easy_ham_2\\\\easy_ham_2',\n",
       " '.\\\\data\\\\extracted\\\\20030228_hard_ham\\\\hard_ham',\n",
       " '.\\\\data\\\\extracted\\\\20030228_spam\\\\spam',\n",
       " '.\\\\data\\\\extracted\\\\20030228_spam_2\\\\spam_2',\n",
       " '.\\\\data\\\\extracted\\\\20050311_spam_2\\\\spam_2']"
      ]
     },
     "execution_count": 46,
     "metadata": {},
     "output_type": "execute_result"
    }
   ],
   "source": [
    "sub_directories = glob.glob(\".\\\\data\\\\extracted\\\\*\\\\*\")\n",
    "sub_directories"
   ]
  },
  {
   "cell_type": "code",
   "execution_count": 60,
   "metadata": {},
   "outputs": [],
   "source": [
    "names = [(x.split(\"\\\\\")[-1], \"HAM\" if x.find(\"ham\") >=0 else \"SPAM\") for x in sub_directories]\n",
    "email_type_names = list(zip(names, sub_directories))"
   ]
  },
  {
   "cell_type": "code",
   "execution_count": 108,
   "metadata": {},
   "outputs": [],
   "source": [
    "#email_type_names"
   ]
  },
  {
   "cell_type": "code",
   "execution_count": 97,
   "metadata": {},
   "outputs": [],
   "source": [
    "with open(list_the_first[100]) as file:\n",
    "    for line in file.readlines():\n",
    "        #print(line)\n",
    "        pass"
   ]
  },
  {
   "cell_type": "code",
   "execution_count": 129,
   "metadata": {},
   "outputs": [],
   "source": [
    "def parse_email(email, line_names):\n",
    "    \"\"\"\n",
    "    Take in the filename of an email document.\n",
    "    Extract any information relating to the predefined tags\n",
    "    Store any information after the subject line as body - to be further processed later\n",
    "    \"\"\"\n",
    "    with open(email) as file:\n",
    "        body_start = False # Changed to True after reading the subject tag.\n",
    "        tags = []\n",
    "        body = []\n",
    "\n",
    "        for line in file.readlines():\n",
    "            line_start = line.split(\":\")[0]+\":\"\n",
    "            if body_start:\n",
    "                body.append(line.strip())\n",
    "            if line_start in line_names:\n",
    "                line_contents = re.findall(r\":\\s(.*)\", line)\n",
    "                tags.append((line_start, line_contents))\n",
    "            if line_start == \"Subject:\":\n",
    "                body_start = True\n",
    "        return (tags, body)"
   ]
  },
  {
   "cell_type": "code",
   "execution_count": 136,
   "metadata": {},
   "outputs": [],
   "source": [
    "list_the_first = glob.glob(email_type_names[0][1]+\"\\\\*\")\n",
    "\n",
    "line_names = [\"To:\", \"From:\", \"MIME-Version:\", \"Content-Type:\",\n",
    "             \"Content-Transfer-Encoding:\", \"X-Mailer:\", \"Subject:\",\n",
    "             \"Precedence:\"]\n",
    "\n",
    "email_contents = {}\n",
    "for file in list_the_first:\n",
    "    returned_data = parse_email(file, line_names)\n",
    "    email_contents[file] = [returned_data[0], returned_data[1]]"
   ]
  },
  {
   "cell_type": "code",
   "execution_count": 139,
   "metadata": {},
   "outputs": [
    {
     "ename": "ValueError",
     "evalue": "cannot use columns parameter with orient='columns'",
     "output_type": "error",
     "traceback": [
      "\u001b[1;31m---------------------------------------------------------------------------\u001b[0m",
      "\u001b[1;31mValueError\u001b[0m                                Traceback (most recent call last)",
      "\u001b[1;32m<ipython-input-139-02d47c883f24>\u001b[0m in \u001b[0;36m<module>\u001b[1;34m\u001b[0m\n\u001b[1;32m----> 1\u001b[1;33m \u001b[0mpd\u001b[0m\u001b[1;33m.\u001b[0m\u001b[0mDataFrame\u001b[0m\u001b[1;33m.\u001b[0m\u001b[0mfrom_dict\u001b[0m\u001b[1;33m(\u001b[0m\u001b[0memail_contents\u001b[0m\u001b[1;33m.\u001b[0m\u001b[0mitems\u001b[0m\u001b[1;33m(\u001b[0m\u001b[1;33m)\u001b[0m\u001b[1;33m,\u001b[0m \u001b[0mcolumns\u001b[0m \u001b[1;33m=\u001b[0m \u001b[0memail_contents\u001b[0m\u001b[1;33m.\u001b[0m\u001b[0mkeys\u001b[0m\u001b[1;33m(\u001b[0m\u001b[1;33m)\u001b[0m\u001b[1;33m)\u001b[0m\u001b[1;33m\u001b[0m\u001b[1;33m\u001b[0m\u001b[0m\n\u001b[0m",
      "\u001b[1;32mC:\\ProgramData\\Anaconda3\\lib\\site-packages\\pandas\\core\\frame.py\u001b[0m in \u001b[0;36mfrom_dict\u001b[1;34m(cls, data, orient, dtype, columns)\u001b[0m\n\u001b[0;32m   1303\u001b[0m         \u001b[1;32melif\u001b[0m \u001b[0morient\u001b[0m \u001b[1;33m==\u001b[0m \u001b[1;34m\"columns\"\u001b[0m\u001b[1;33m:\u001b[0m\u001b[1;33m\u001b[0m\u001b[1;33m\u001b[0m\u001b[0m\n\u001b[0;32m   1304\u001b[0m             \u001b[1;32mif\u001b[0m \u001b[0mcolumns\u001b[0m \u001b[1;32mis\u001b[0m \u001b[1;32mnot\u001b[0m \u001b[1;32mNone\u001b[0m\u001b[1;33m:\u001b[0m\u001b[1;33m\u001b[0m\u001b[1;33m\u001b[0m\u001b[0m\n\u001b[1;32m-> 1305\u001b[1;33m                 \u001b[1;32mraise\u001b[0m \u001b[0mValueError\u001b[0m\u001b[1;33m(\u001b[0m\u001b[1;34m\"cannot use columns parameter with orient='columns'\"\u001b[0m\u001b[1;33m)\u001b[0m\u001b[1;33m\u001b[0m\u001b[1;33m\u001b[0m\u001b[0m\n\u001b[0m\u001b[0;32m   1306\u001b[0m         \u001b[1;32melse\u001b[0m\u001b[1;33m:\u001b[0m  \u001b[1;31m# pragma: no cover\u001b[0m\u001b[1;33m\u001b[0m\u001b[1;33m\u001b[0m\u001b[0m\n\u001b[0;32m   1307\u001b[0m             \u001b[1;32mraise\u001b[0m \u001b[0mValueError\u001b[0m\u001b[1;33m(\u001b[0m\u001b[1;34m\"only recognize index or columns for orient\"\u001b[0m\u001b[1;33m)\u001b[0m\u001b[1;33m\u001b[0m\u001b[1;33m\u001b[0m\u001b[0m\n",
      "\u001b[1;31mValueError\u001b[0m: cannot use columns parameter with orient='columns'"
     ]
    }
   ],
   "source": [
    "pd.DataFrame.from_dict(email_contents.items(), columns = email_contents.keys())"
   ]
  },
  {
   "cell_type": "code",
   "execution_count": 134,
   "metadata": {},
   "outputs": [
    {
     "data": {
      "text/html": [
       "<div>\n",
       "<style scoped>\n",
       "    .dataframe tbody tr th:only-of-type {\n",
       "        vertical-align: middle;\n",
       "    }\n",
       "\n",
       "    .dataframe tbody tr th {\n",
       "        vertical-align: top;\n",
       "    }\n",
       "\n",
       "    .dataframe thead th {\n",
       "        text-align: right;\n",
       "    }\n",
       "</style>\n",
       "<table border=\"1\" class=\"dataframe\">\n",
       "  <thead>\n",
       "    <tr style=\"text-align: right;\">\n",
       "      <th></th>\n",
       "      <th>.\\data\\extracted\\20021010_easy_ham\\easy_ham\\0001.ea7e79d3153e7469e7a9c3e0af6a357e</th>\n",
       "      <th>.\\data\\extracted\\20021010_easy_ham\\easy_ham\\0002.b3120c4bcbf3101e661161ee7efcb8bf</th>\n",
       "      <th>.\\data\\extracted\\20021010_easy_ham\\easy_ham\\0003.acfc5ad94bbd27118a0d8685d18c89dd</th>\n",
       "      <th>.\\data\\extracted\\20021010_easy_ham\\easy_ham\\0004.e8d5727378ddde5c3be181df593f1712</th>\n",
       "      <th>.\\data\\extracted\\20021010_easy_ham\\easy_ham\\0005.8c3b9e9c0f3f183ddaf7592a11b99957</th>\n",
       "      <th>.\\data\\extracted\\20021010_easy_ham\\easy_ham\\0006.ee8b0dba12856155222be180ba122058</th>\n",
       "      <th>.\\data\\extracted\\20021010_easy_ham\\easy_ham\\0007.c75188382f64b090022fa3b095b020b0</th>\n",
       "      <th>.\\data\\extracted\\20021010_easy_ham\\easy_ham\\0008.20bc0b4ba2d99aae1c7098069f611a9b</th>\n",
       "      <th>.\\data\\extracted\\20021010_easy_ham\\easy_ham\\0009.435ae292d75abb1ca492dcc2d5cf1570</th>\n",
       "      <th>.\\data\\extracted\\20021010_easy_ham\\easy_ham\\0010.4996141de3f21e858c22f88231a9f463</th>\n",
       "      <th>...</th>\n",
       "      <th>.\\data\\extracted\\20021010_easy_ham\\easy_ham\\2542.1a940f58e68fa8a84a3f83e30a624e8d</th>\n",
       "      <th>.\\data\\extracted\\20021010_easy_ham\\easy_ham\\2543.1fa39c8b86bc5ae84b837e8c7ae3717d</th>\n",
       "      <th>.\\data\\extracted\\20021010_easy_ham\\easy_ham\\2544.1a95794a767c776e71893fda91f59efb</th>\n",
       "      <th>.\\data\\extracted\\20021010_easy_ham\\easy_ham\\2545.6ddb98905ca38f1dc76e5266427c0574</th>\n",
       "      <th>.\\data\\extracted\\20021010_easy_ham\\easy_ham\\2546.dd6480d3f87f7d525f797d17ac1a0bc8</th>\n",
       "      <th>.\\data\\extracted\\20021010_easy_ham\\easy_ham\\2547.18ce2b2d4f757e70154b5c8cfe6e684f</th>\n",
       "      <th>.\\data\\extracted\\20021010_easy_ham\\easy_ham\\2548.b2259f104edd1ecbc9dc0327df387147</th>\n",
       "      <th>.\\data\\extracted\\20021010_easy_ham\\easy_ham\\2549.d05fe143eb28d1fb19fbdc39781d5e34</th>\n",
       "      <th>.\\data\\extracted\\20021010_easy_ham\\easy_ham\\2550.963956a866a2e00b3d5b353ecc9216ae</th>\n",
       "      <th>.\\data\\extracted\\20021010_easy_ham\\easy_ham\\2551.3b1f94418de5bd544c977b44bcc7e740</th>\n",
       "    </tr>\n",
       "  </thead>\n",
       "  <tbody>\n",
       "    <tr>\n",
       "      <th>0</th>\n",
       "      <td>[(From:, [Robert Elz &lt;kre@munnari.OZ.AU&gt;]), (T...</td>\n",
       "      <td>[(To:, [\"'zzzzteana@yahoogroups.com'\" &lt;zzzztea...</td>\n",
       "      <td>[(X-Mailer:, [Microsoft Outlook Express Macint...</td>\n",
       "      <td>[(MIME-Version:, [1.0]), (To:, [undisclosed-re...</td>\n",
       "      <td>[(To:, [Exmh Users Mailing List &lt;exmh-users@ex...</td>\n",
       "      <td>[(To:, [zzzzteana@yahoogroups.com]), (From:, [...</td>\n",
       "      <td>[(To:, [zzzzteana@yahoogroups.com]), (X-Mailer...</td>\n",
       "      <td>[(To:, [zzzzteana@yahoogroups.com]), (X-Mailer...</td>\n",
       "      <td>[(To:, [zzzzteana@yahoogroups.com]), (From:, [...</td>\n",
       "      <td>[(To:, [zzzzteana@yahoogroups.com]), (X-Mailer...</td>\n",
       "      <td>...</td>\n",
       "      <td>[(To:, [yyyy@example.com]), (From:, [guardian ...</td>\n",
       "      <td>[(To:, [yyyy@example.com]), (From:, [newscient...</td>\n",
       "      <td>[(To:, [yyyy@example.com]), (From:, [guardian ...</td>\n",
       "      <td>[(To:, [yyyy@example.com]), (From:, [newscient...</td>\n",
       "      <td>[(To:, [yyyy@example.com]), (From:, [guardian ...</td>\n",
       "      <td>[(To:, [yyyy@example.com]), (From:, [newscient...</td>\n",
       "      <td>[(To:, [yyyy@example.com]), (From:, [guardian ...</td>\n",
       "      <td>[(To:, [yyyy@example.com]), (From:, [newscient...</td>\n",
       "      <td>[(To:, [yyyy@example.com]), (From:, [guardian ...</td>\n",
       "      <td>[(To:, [yyyy@example.com]), (From:, [newscient...</td>\n",
       "    </tr>\n",
       "    <tr>\n",
       "      <th>1</th>\n",
       "      <td>[In-Reply-To: &lt;1029945287.4797.TMDA@deepeddy.v...</td>\n",
       "      <td>[Reply-To: zzzzteana@yahoogroups.com, Content-...</td>\n",
       "      <td>[Reply-To: zzzzteana@yahoogroups.com, Content-...</td>\n",
       "      <td>[Sender: irregulars-admin@tb.tf, Errors-To: ir...</td>\n",
       "      <td>[X-Loop: exmh-users@example.com, Sender: exmh-...</td>\n",
       "      <td>[Reply-To: zzzzteana@yahoogroups.com, Content-...</td>\n",
       "      <td>[Reply-To: zzzzteana@yahoogroups.com, Content-...</td>\n",
       "      <td>[Reply-To: zzzzteana@yahoogroups.com, Content-...</td>\n",
       "      <td>[Reply-To: zzzzteana@yahoogroups.com, Content-...</td>\n",
       "      <td>[Reply-To: zzzzteana@yahoogroups.com, Content-...</td>\n",
       "      <td>...</td>\n",
       "      <td>[Date: Thu, 10 Oct 2002 08:04:09 -0000, Conten...</td>\n",
       "      <td>[Date: Thu, 10 Oct 2002 08:04:25 -0000, Conten...</td>\n",
       "      <td>[Date: Thu, 10 Oct 2002 08:04:09 -0000, Conten...</td>\n",
       "      <td>[Date: Thu, 10 Oct 2002 08:04:25 -0000, Conten...</td>\n",
       "      <td>[Date: Thu, 10 Oct 2002 08:04:09 -0000, Conten...</td>\n",
       "      <td>[Date: Thu, 10 Oct 2002 08:04:25 -0000, Conten...</td>\n",
       "      <td>[Date: Thu, 10 Oct 2002 08:04:10 -0000, Conten...</td>\n",
       "      <td>[Date: Thu, 10 Oct 2002 08:04:26 -0000, Conten...</td>\n",
       "      <td>[Date: Thu, 10 Oct 2002 08:04:10 -0000, Conten...</td>\n",
       "      <td>[Date: Thu, 10 Oct 2002 08:04:26 -0000, Conten...</td>\n",
       "    </tr>\n",
       "  </tbody>\n",
       "</table>\n",
       "<p>2 rows × 2551 columns</p>\n",
       "</div>"
      ],
      "text/plain": [
       "  .\\data\\extracted\\20021010_easy_ham\\easy_ham\\0001.ea7e79d3153e7469e7a9c3e0af6a357e  \\\n",
       "0  [(From:, [Robert Elz <kre@munnari.OZ.AU>]), (T...                                  \n",
       "1  [In-Reply-To: <1029945287.4797.TMDA@deepeddy.v...                                  \n",
       "\n",
       "  .\\data\\extracted\\20021010_easy_ham\\easy_ham\\0002.b3120c4bcbf3101e661161ee7efcb8bf  \\\n",
       "0  [(To:, [\"'zzzzteana@yahoogroups.com'\" <zzzztea...                                  \n",
       "1  [Reply-To: zzzzteana@yahoogroups.com, Content-...                                  \n",
       "\n",
       "  .\\data\\extracted\\20021010_easy_ham\\easy_ham\\0003.acfc5ad94bbd27118a0d8685d18c89dd  \\\n",
       "0  [(X-Mailer:, [Microsoft Outlook Express Macint...                                  \n",
       "1  [Reply-To: zzzzteana@yahoogroups.com, Content-...                                  \n",
       "\n",
       "  .\\data\\extracted\\20021010_easy_ham\\easy_ham\\0004.e8d5727378ddde5c3be181df593f1712  \\\n",
       "0  [(MIME-Version:, [1.0]), (To:, [undisclosed-re...                                  \n",
       "1  [Sender: irregulars-admin@tb.tf, Errors-To: ir...                                  \n",
       "\n",
       "  .\\data\\extracted\\20021010_easy_ham\\easy_ham\\0005.8c3b9e9c0f3f183ddaf7592a11b99957  \\\n",
       "0  [(To:, [Exmh Users Mailing List <exmh-users@ex...                                  \n",
       "1  [X-Loop: exmh-users@example.com, Sender: exmh-...                                  \n",
       "\n",
       "  .\\data\\extracted\\20021010_easy_ham\\easy_ham\\0006.ee8b0dba12856155222be180ba122058  \\\n",
       "0  [(To:, [zzzzteana@yahoogroups.com]), (From:, [...                                  \n",
       "1  [Reply-To: zzzzteana@yahoogroups.com, Content-...                                  \n",
       "\n",
       "  .\\data\\extracted\\20021010_easy_ham\\easy_ham\\0007.c75188382f64b090022fa3b095b020b0  \\\n",
       "0  [(To:, [zzzzteana@yahoogroups.com]), (X-Mailer...                                  \n",
       "1  [Reply-To: zzzzteana@yahoogroups.com, Content-...                                  \n",
       "\n",
       "  .\\data\\extracted\\20021010_easy_ham\\easy_ham\\0008.20bc0b4ba2d99aae1c7098069f611a9b  \\\n",
       "0  [(To:, [zzzzteana@yahoogroups.com]), (X-Mailer...                                  \n",
       "1  [Reply-To: zzzzteana@yahoogroups.com, Content-...                                  \n",
       "\n",
       "  .\\data\\extracted\\20021010_easy_ham\\easy_ham\\0009.435ae292d75abb1ca492dcc2d5cf1570  \\\n",
       "0  [(To:, [zzzzteana@yahoogroups.com]), (From:, [...                                  \n",
       "1  [Reply-To: zzzzteana@yahoogroups.com, Content-...                                  \n",
       "\n",
       "  .\\data\\extracted\\20021010_easy_ham\\easy_ham\\0010.4996141de3f21e858c22f88231a9f463  \\\n",
       "0  [(To:, [zzzzteana@yahoogroups.com]), (X-Mailer...                                  \n",
       "1  [Reply-To: zzzzteana@yahoogroups.com, Content-...                                  \n",
       "\n",
       "   ...  \\\n",
       "0  ...   \n",
       "1  ...   \n",
       "\n",
       "  .\\data\\extracted\\20021010_easy_ham\\easy_ham\\2542.1a940f58e68fa8a84a3f83e30a624e8d  \\\n",
       "0  [(To:, [yyyy@example.com]), (From:, [guardian ...                                  \n",
       "1  [Date: Thu, 10 Oct 2002 08:04:09 -0000, Conten...                                  \n",
       "\n",
       "  .\\data\\extracted\\20021010_easy_ham\\easy_ham\\2543.1fa39c8b86bc5ae84b837e8c7ae3717d  \\\n",
       "0  [(To:, [yyyy@example.com]), (From:, [newscient...                                  \n",
       "1  [Date: Thu, 10 Oct 2002 08:04:25 -0000, Conten...                                  \n",
       "\n",
       "  .\\data\\extracted\\20021010_easy_ham\\easy_ham\\2544.1a95794a767c776e71893fda91f59efb  \\\n",
       "0  [(To:, [yyyy@example.com]), (From:, [guardian ...                                  \n",
       "1  [Date: Thu, 10 Oct 2002 08:04:09 -0000, Conten...                                  \n",
       "\n",
       "  .\\data\\extracted\\20021010_easy_ham\\easy_ham\\2545.6ddb98905ca38f1dc76e5266427c0574  \\\n",
       "0  [(To:, [yyyy@example.com]), (From:, [newscient...                                  \n",
       "1  [Date: Thu, 10 Oct 2002 08:04:25 -0000, Conten...                                  \n",
       "\n",
       "  .\\data\\extracted\\20021010_easy_ham\\easy_ham\\2546.dd6480d3f87f7d525f797d17ac1a0bc8  \\\n",
       "0  [(To:, [yyyy@example.com]), (From:, [guardian ...                                  \n",
       "1  [Date: Thu, 10 Oct 2002 08:04:09 -0000, Conten...                                  \n",
       "\n",
       "  .\\data\\extracted\\20021010_easy_ham\\easy_ham\\2547.18ce2b2d4f757e70154b5c8cfe6e684f  \\\n",
       "0  [(To:, [yyyy@example.com]), (From:, [newscient...                                  \n",
       "1  [Date: Thu, 10 Oct 2002 08:04:25 -0000, Conten...                                  \n",
       "\n",
       "  .\\data\\extracted\\20021010_easy_ham\\easy_ham\\2548.b2259f104edd1ecbc9dc0327df387147  \\\n",
       "0  [(To:, [yyyy@example.com]), (From:, [guardian ...                                  \n",
       "1  [Date: Thu, 10 Oct 2002 08:04:10 -0000, Conten...                                  \n",
       "\n",
       "  .\\data\\extracted\\20021010_easy_ham\\easy_ham\\2549.d05fe143eb28d1fb19fbdc39781d5e34  \\\n",
       "0  [(To:, [yyyy@example.com]), (From:, [newscient...                                  \n",
       "1  [Date: Thu, 10 Oct 2002 08:04:26 -0000, Conten...                                  \n",
       "\n",
       "  .\\data\\extracted\\20021010_easy_ham\\easy_ham\\2550.963956a866a2e00b3d5b353ecc9216ae  \\\n",
       "0  [(To:, [yyyy@example.com]), (From:, [guardian ...                                  \n",
       "1  [Date: Thu, 10 Oct 2002 08:04:10 -0000, Conten...                                  \n",
       "\n",
       "  .\\data\\extracted\\20021010_easy_ham\\easy_ham\\2551.3b1f94418de5bd544c977b44bcc7e740  \n",
       "0  [(To:, [yyyy@example.com]), (From:, [newscient...                                 \n",
       "1  [Date: Thu, 10 Oct 2002 08:04:26 -0000, Conten...                                 \n",
       "\n",
       "[2 rows x 2551 columns]"
      ]
     },
     "execution_count": 134,
     "metadata": {},
     "output_type": "execute_result"
    }
   ],
   "source": [
    "test_df"
   ]
  }
 ],
 "metadata": {
  "kernelspec": {
   "display_name": "Python 3",
   "language": "python",
   "name": "python3"
  },
  "language_info": {
   "codemirror_mode": {
    "name": "ipython",
    "version": 3
   },
   "file_extension": ".py",
   "mimetype": "text/x-python",
   "name": "python",
   "nbconvert_exporter": "python",
   "pygments_lexer": "ipython3",
   "version": "3.8.5"
  }
 },
 "nbformat": 4,
 "nbformat_minor": 4
}
